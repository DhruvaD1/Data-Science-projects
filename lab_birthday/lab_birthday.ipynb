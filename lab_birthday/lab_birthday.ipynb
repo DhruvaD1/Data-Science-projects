{
 "cells": [
  {
   "cell_type": "markdown",
   "metadata": {},
   "source": [
    "# Lab: Birthday\n",
    "\n",
    "## Happy Birthday!\n",
    "\n",
    "Just kidding, it's *(probably, with P=0.9973)* not your birthday, but it might be someone's birthday in this room! Taylor Swift says she will come and give a free concert on THE QUAD on December 13th if it is someone's birthday on that day. Now obviously the students want to make this happen, so they ask you to do some calculations regarding the probability of the concert happening.\n",
    "\n",
    "- For these puzzles, we assume that each year is **365 days** (ignore leap years)\n",
    "- We also assume that everyone has an **equal chance** of a birthday each day *(not actually true in real life)*\n",
    "\n",
    "## Group\n",
    "Edit the next Python cell to add information about who you're working with in your lab section:"
   ]
  },
  {
   "cell_type": "code",
   "execution_count": 2,
   "metadata": {},
   "outputs": [],
   "source": [
    "partner1_name = \"\"\n",
    "partner1_netid = \"\"\n",
    "partner1_major = \"\"\n",
    "\n",
    "partner2_name = \"\"\n",
    "partner2_netid = \"\"\n",
    "partner2_major = \"\"\n",
    "\n",
    "partner3_name = \"\"\n",
    "partner3_netid = \"\"\n",
    "partner3_major = \"\""
   ]
  },
  {
   "cell_type": "markdown",
   "metadata": {},
   "source": [
    "## Table of Contents <a id='toc'></a>\n",
    "\n",
    "**Use the Outline view (View > Command Palette > Type \"outline\") for navigation.**\n",
    "\n",
    "* Puzzle 1\n",
    "    * Puzzle 1.1\n",
    "    * Puzzle 1.2\n",
    "    * Puzzle 1.3\n",
    "    * Puzzle 1.4\n",
    "* Puzzle 2\n",
    "    * Puzzle 2.1\n",
    "    * Puzzle 2.2\n",
    "    * Puzzle 2.3 \n",
    "* Puzzle 3\n",
    "    * Puzzle 3.1\n",
    "    * Puzzle 3.2\n",
    "    * Puzzle 3.3\n",
    "* Puzzle 4\n",
    "    * Puzzle 4.1\n",
    "    * Puzzle 4.2\n",
    "    * Puzzle 4.3\n",
    "    * Puzzle 4.4\n",
    "    * Puzzle 4.5\n",
    "* Finale"
   ]
  },
  {
   "cell_type": "markdown",
   "metadata": {},
   "source": [
    "## Puzzle 1: My Birthday\n",
    "\n",
    "The **birthday problem** is a classic statistical problem that asks, *\"How likely is it for at least two people in a room of **n** people to share a birthday?\"*  In other words, what's the chance that there's at least one match of birthdays in a room with **n** people? We'll cover this in Puzzle \\#2.\n",
    "\n",
    "\n",
    "#### \"My Birthday Problem\"\n",
    "\n",
    "To begin, let's consider **your birthday**.  We are actually going to start with a related, but very different question...\n",
    "\n",
    "*How likely is it for at least one person in a room of **`n`** people to have the same birthday as **me**?*\n",
    "\n",
    "### Puzzle 1.1: Sharing My Birthday with 1, 2, or 3 Other People\n",
    "\n",
    "#### One Other Person (`n=1`)\n",
    "\n",
    "If you are in a room with **one other person**, what is the probability you both have the same birthday? (*Of course you know your own birthday!*) There is no need for any python code for this puzzle, it should be a mathematical equation! Replace the ... with your answer in the following puzzles.\n",
    "\n",
    "Hint (double-click this cell to see it): <span style=\"color:#ffffff00\">Check Puzzle 1.2 for the formula of these probabilities.</span>"
   ]
  },
  {
   "cell_type": "code",
   "execution_count": 3,
   "metadata": {
    "nbgrader": {
     "grade": false,
     "grade_id": "cell-16021a893dda10f8",
     "locked": false,
     "schema_version": 3,
     "solution": true,
     "task": false
    }
   },
   "outputs": [
    {
     "data": {
      "text/plain": [
       "0.0027397260273972603"
      ]
     },
     "execution_count": 3,
     "metadata": {},
     "output_type": "execute_result"
    }
   ],
   "source": [
    "p_one_person_my_birthday = (1/365)\n",
    "p_one_person_my_birthday"
   ]
  },
  {
   "cell_type": "markdown",
   "metadata": {},
   "source": [
    "#### Two Other People (`n=2`)\n",
    "\n",
    "If you are in a room with **two other people**, what is the probability that at least one of them has the same birthday as you?"
   ]
  },
  {
   "cell_type": "code",
   "execution_count": 4,
   "metadata": {
    "nbgrader": {
     "grade": false,
     "grade_id": "cell-d776448804b67dfc",
     "locked": false,
     "schema_version": 3,
     "solution": true,
     "task": false
    }
   },
   "outputs": [
    {
     "data": {
      "text/plain": [
       "0.005471945956089352"
      ]
     },
     "execution_count": 4,
     "metadata": {},
     "output_type": "execute_result"
    }
   ],
   "source": [
    "p_two_others_my_birthday = 1-(364/365)**2\n",
    "p_two_others_my_birthday"
   ]
  },
  {
   "cell_type": "markdown",
   "metadata": {},
   "source": [
    "#### Three Other People (`n=3`)\n",
    "\n",
    "If you are in a room with **three other people**, what is the probability that at least one of them has the same birthday as you?"
   ]
  },
  {
   "cell_type": "code",
   "execution_count": 5,
   "metadata": {
    "nbgrader": {
     "grade": false,
     "grade_id": "cell-9b6271534fe56ab1",
     "locked": false,
     "schema_version": 3,
     "solution": true,
     "task": false
    }
   },
   "outputs": [
    {
     "data": {
      "text/plain": [
       "0.008196680350730179"
      ]
     },
     "execution_count": 5,
     "metadata": {},
     "output_type": "execute_result"
    }
   ],
   "source": [
    "p_three_others_my_birthday = 1-(364/365)**3\n",
    "p_three_others_my_birthday"
   ]
  },
  {
   "cell_type": "code",
   "execution_count": 6,
   "metadata": {
    "nbgrader": {
     "grade": true,
     "grade_id": "cell-2213109ad4022435",
     "locked": true,
     "points": 0,
     "schema_version": 3,
     "solution": false,
     "task": false
    }
   },
   "outputs": [
    {
     "name": "stdout",
     "output_type": "stream",
     "text": [
      "🎉 All tests passed! 🎉\n"
     ]
    }
   ],
   "source": [
    "## == TEST CASES for Puzzle 1a ==\n",
    "# - This read-only cell contains test cases for your previous cells.\n",
    "# - If this cell runs without any error our output, you PASSED all test cases!\n",
    "# - If this cell results in any errors, check you previous cell, make changes, and RE-RUN your code and then this cell.\n",
    "import math\n",
    "assert(math.isclose(p_one_person_my_birthday, 0.0027397260273972603)), \"The probability for one birthday doesn't seem right.\"\n",
    "assert(math.isclose(p_two_others_my_birthday, 0.005471945956089352)), \"The probability for two birthdays doesn't seem right.\"\n",
    "assert(math.isclose(p_three_others_my_birthday, 0.008196680350730179)), \"The probability for three birthdays doesn't seem right.\"\n",
    "\n",
    "## == SUCCESS MESSAGE ==\n",
    "# You will only see this message (with the emoji showing) if you passed all test cases:\n",
    "tada = \"\\N{PARTY POPPER}\"\n",
    "print(f\"{tada} All tests passed! {tada}\")"
   ]
  },
  {
   "cell_type": "markdown",
   "metadata": {},
   "source": [
    "### Puzzle 1.2: Sharing My Birthday with `n` Other People\n",
    "\n",
    "We have included a Python library developed just for DISCOVERY called `birthday` that provides the ability to run code related to birthdays.\n",
    "\n",
    "This library works just like `pandas` in that:\n",
    "\n",
    "1. You must `import birthday` to use the functions found in `birthday`.\n",
    "2. We will introduce various \"birthday functions\" for you to use!\n",
    "\n",
    "\n",
    "#### Puzzle 1: Birthday Function\n",
    "\n",
    "The first birthday function calculates the probability that someone in the room shares **your birthday**!  From Puzzle 1.1, you found that this follows the following equation when you have **n other people in the room**:\n",
    "\n",
    "$$\n",
    "P(n) = 1 - \\left(\\frac{364}{365}\\right)^n.\n",
    "$$\n",
    "\n",
    "For one other person ($n=1$):\n",
    "\n",
    "\\begin{align*}\n",
    "P(n) &= 1 - \\left(\\frac{364}{365}\\right)^1 \\\\\n",
    "& = \\frac{1}{365} \\\\\n",
    "& \\approx 0.0027397.\n",
    "\\end{align*}\n",
    "\n",
    "For two other person ($n=2$):\n",
    "\n",
    "\\begin{align*}\n",
    "P(n) &= 1 - \\left(\\frac{364}{365}\\right)^2 \\\\\n",
    "& \\approx 0.0054719.\n",
    "\\end{align*}\n",
    "\n",
    "We can do this with the `birthday` function: `birthday.myBirthday(n)` where `n` is how many other people are in the room.\n",
    "\n",
    "#### Your Turn!\n",
    "\n",
    "1. Import `birthday`\n",
    "2. Using the `birthday.myBirthday(n)` function for **2** other people in the room"
   ]
  },
  {
   "cell_type": "code",
   "execution_count": 7,
   "metadata": {
    "nbgrader": {
     "grade": false,
     "grade_id": "cell-9fcc75505fada2fa",
     "locked": false,
     "schema_version": 3,
     "solution": true,
     "task": false
    }
   },
   "outputs": [
    {
     "data": {
      "text/plain": [
       "0.008196680350730179"
      ]
     },
     "execution_count": 7,
     "metadata": {},
     "output_type": "execute_result"
    }
   ],
   "source": [
    "import birthday\n",
    "birthday.myBirthday(3)"
   ]
  },
  {
   "cell_type": "markdown",
   "metadata": {},
   "source": [
    "### Running The Function:\n",
    "\n",
    "Fix the following calls to `birthday.myBirthday(n)` to call the function with the correct value of `n`.  Make sure the answers are what you expect."
   ]
  },
  {
   "cell_type": "code",
   "execution_count": 8,
   "metadata": {},
   "outputs": [
    {
     "name": "stdout",
     "output_type": "stream",
     "text": [
      "A room with one other person: 0.005471945956089352\n",
      "A room with two other people: 0.008196680350730179\n",
      "A room with three other people: 0.010913949719632221\n",
      "A room with 100 other people: 0.24201530172880015\n",
      "A room with 1000 other people: 0.935830639417295\n",
      "A room with 10000 other people: 0.9999999999987866\n"
     ]
    }
   ],
   "source": [
    "print('A room with one other person:', birthday.myBirthday(2))\n",
    "print('A room with two other people:', birthday.myBirthday(3))\n",
    "print('A room with three other people:', birthday.myBirthday(4))\n",
    "print('A room with 100 other people:', birthday.myBirthday(101))\n",
    "print('A room with 1000 other people:', birthday.myBirthday(1001))\n",
    "print('A room with 10000 other people:', birthday.myBirthday(10001))"
   ]
  },
  {
   "cell_type": "markdown",
   "metadata": {},
   "source": [
    "### Puzzle 1.3: Birthday DataFrame\n",
    "\n",
    "A second birthday function provided is `birthday.myBirthday_DataFrame(n)`.  This function returns a DataFrame containing `n` rows with the probability you share a birthday with someone when there are `n` other people in the room.\n",
    "`\n",
    "- This is **very similar** to `pd.read_csv(url)` in that the both return a DataFrame.  This time, Python is generating the DataFrame instead of loading it from a file!\n",
    "\n",
    "Use `birthday.myBirthday_DataFrame(n)` to create a DataFrame of birthdays for up to **2000** people in the same room and output it below. Store the result in `df`."
   ]
  },
  {
   "cell_type": "code",
   "execution_count": 9,
   "metadata": {},
   "outputs": [],
   "source": [
    "df=birthday.myBirthday_DataFrame(2000)"
   ]
  },
  {
   "cell_type": "markdown",
   "metadata": {},
   "source": [
    "Using your DataFrame `df`, we can create a line chart to show how the probability grows over time. Run the code below!\n"
   ]
  },
  {
   "cell_type": "code",
   "execution_count": 10,
   "metadata": {},
   "outputs": [
    {
     "data": {
      "text/plain": [
       "<AxesSubplot:xlabel='Other People'>"
      ]
     },
     "execution_count": 10,
     "metadata": {},
     "output_type": "execute_result"
    },
    {
     "data": {
      "image/png": "[encoded data removed]",
      "text/plain": [
       "<Figure size 432x288 with 1 Axes>"
      ]
     },
     "metadata": {
      "needs_background": "light"
     },
     "output_type": "display_data"
    }
   ],
   "source": [
    "df.plot.line(x=\"Other People\", y=\"P(n)\", grid=True)"
   ]
  },
  {
   "cell_type": "markdown",
   "metadata": {},
   "source": [
    "### Puzzle 1.4: ❓ Individual Reflection Question ❓ Chance of Sharing Your Birthday vs. Two People Sharing a Birthday\n",
    "\n",
    " Is it more or less likely that someone in your lab shares **your** birthday **OR** that there's at least one shared birthday between **anyone** in your lab?"
   ]
  },
  {
   "cell_type": "markdown",
   "metadata": {},
   "source": [
    "It is less than likely "
   ]
  },
  {
   "cell_type": "markdown",
   "metadata": {},
   "source": [
    "## Puzzle 2: The Classic Birthday Problem\n",
    "\n",
    "The **birthday problem** is a classic problem that asks: *How likely is it for at least two people in a room to share a birthday?*<br>\n",
    "**NOTE**: *Since we're no longer using your birthday, all birthdays here are random and not fixed.*\n",
    "\n",
    "### Puzzle 2.1: At Least Two People Sharing a Birthday at a 1, 2, 3, or 4-Person Party\n",
    "\n",
    "#### A One-Person Party (`n=1`)\n",
    "\n",
    "Let's start with just one person in a room.  The probability that they share a birthday with someone else is... well... 0%.\n",
    "\n",
    "$P(\\mathrm{shared\\ birthday\\ with\\ 1\\ person}) = 0$\n",
    "\n",
    "\n",
    "#### A Two-Person Party (`n=2`)\n",
    "\n",
    "The probability of two people in a room sharing the same birthday is non-zero!  This is the probability of the second person having exactly the same birthday as the first ... 1 out of 365!\n",
    "\n",
    "$P(\\mathrm{shared\\ birthday\\ with\\ 2\\ people}) = \\frac{1}{365}$\n",
    "\n",
    "\n",
    "#### A Three-Person Party (`n=3`)\n",
    "\n",
    "Now it gets interesting!  In a three person party, what is the probability that there is **at least one** match of birthdays?\n",
    "\n",
    "Use the following cell to find the answer in Python, the solutions will be mathematical equations:\n",
    "\n",
    "**HINT:** (double-click this cell to see it): <span style=\"color:#ffffff00\">Probability of at least 1 is the same as saying 1 - Probability of no matches!</span>"
   ]
  },
  {
   "cell_type": "code",
   "execution_count": 74,
   "metadata": {
    "nbgrader": {
     "grade": false,
     "grade_id": "cell-9db7fd67d49459bd",
     "locked": false,
     "schema_version": 3,
     "solution": true,
     "task": false
    }
   },
   "outputs": [
    {
     "data": {
      "text/plain": [
       "0.008204165884781345"
      ]
     },
     "execution_count": 74,
     "metadata": {},
     "output_type": "execute_result"
    }
   ],
   "source": [
    "p_three_person_party = 1-((364/365)*(363/365))\n",
    "p_three_person_party"
   ]
  },
  {
   "cell_type": "code",
   "execution_count": 75,
   "metadata": {
    "nbgrader": {
     "grade": true,
     "grade_id": "cell-3aa5b5a4afef9fbc",
     "locked": true,
     "points": 0,
     "schema_version": 3,
     "solution": false,
     "task": false
    }
   },
   "outputs": [
    {
     "name": "stdout",
     "output_type": "stream",
     "text": [
      "🎉 All tests passed! 🎉\n"
     ]
    }
   ],
   "source": [
    "## == TEST CASES for Puzzle 2 (with n=3) ==\n",
    "# - This read-only cell contains test cases for your previous cell.\n",
    "# - If this cell runs without any error our output, you PASSED all test cases!\n",
    "# - If this cell results in any errors, check you previous cell, make changes, and RE-RUN your code and then this cell.\n",
    "import math\n",
    "assert(math.isclose(p_three_person_party, 0.008204165884781345)), \"The probability doesn't seem right.\"\n",
    "\n",
    "## == SUCCESS MESSAGE ==\n",
    "# You will only see this message (with the emoji showing) if you passed all test cases:\n",
    "tada = \"\\N{PARTY POPPER}\"\n",
    "print(f\"{tada} All tests passed! {tada}\")"
   ]
  },
  {
   "cell_type": "markdown",
   "metadata": {},
   "source": [
    "#### A Four-Person Party (`n=4`)\n",
    "\n",
    "In a four person party, what is the probability that there is **at least one** match of birthdays?\n",
    "\n",
    "Use the following cell to find the answer in Python:"
   ]
  },
  {
   "cell_type": "code",
   "execution_count": 76,
   "metadata": {
    "nbgrader": {
     "grade": false,
     "grade_id": "cell-1a5b32da97b97164",
     "locked": false,
     "schema_version": 3,
     "solution": true,
     "task": false
    }
   },
   "outputs": [
    {
     "data": {
      "text/plain": [
       "0.016355912466550215"
      ]
     },
     "execution_count": 76,
     "metadata": {},
     "output_type": "execute_result"
    }
   ],
   "source": [
    "p_four_person_party = 1-((364/365)*(363/365)*(362/365))\n",
    "p_four_person_party"
   ]
  },
  {
   "cell_type": "code",
   "execution_count": 77,
   "metadata": {
    "nbgrader": {
     "grade": true,
     "grade_id": "cell-571231fcdfa9de08",
     "locked": true,
     "points": 1,
     "schema_version": 3,
     "solution": false,
     "task": false
    }
   },
   "outputs": [
    {
     "name": "stdout",
     "output_type": "stream",
     "text": [
      "🎉 All tests passed! 🎉\n"
     ]
    }
   ],
   "source": [
    "## == TEST CASES for Puzzle 2 (with n=4) ==\n",
    "# - This read-only cell contains test cases for your previous cell.\n",
    "# - If this cell runs without any error our output, you PASSED all test cases!\n",
    "# - If this cell results in any errors, check you previous cell, make changes, and RE-RUN your code and then this cell.\n",
    "\n",
    "assert(math.isclose(p_four_person_party, 0.016355912466550215)), \"The probability doesn't seem right.\"\n",
    "\n",
    "## == SUCCESS MESSAGE ==\n",
    "# You will only see this message (with the emoji showing) if you passed all test cases:\n",
    "tada = \"\\N{PARTY POPPER}\"\n",
    "print(f\"{tada} All tests passed! {tada}\")"
   ]
  },
  {
   "cell_type": "markdown",
   "metadata": {},
   "source": [
    "#### Birthday Library: At Least Two People Sharing a Birthday at an `n`-Person Party\n",
    "\n",
    "We now have a **third** birthday function `birthday.sharedBirthday(n)` that calculates the probability that at a party with **n** people, **at least two people** share a birthday.\n",
    "\n",
    "Check if `birthday.sharedBirthday(4)` matches with your answer above:"
   ]
  },
  {
   "cell_type": "code",
   "execution_count": 72,
   "metadata": {
    "nbgrader": {
     "grade": false,
     "grade_id": "cell-8826e853f191d14f",
     "locked": false,
     "schema_version": 3,
     "solution": true,
     "task": false
    }
   },
   "outputs": [
    {
     "data": {
      "text/plain": [
       "0.016355912466550326"
      ]
     },
     "execution_count": 72,
     "metadata": {},
     "output_type": "execute_result"
    }
   ],
   "source": [
    "birthday.sharedBirthday(4)"
   ]
  },
  {
   "cell_type": "markdown",
   "metadata": {},
   "source": [
    "Fix the following calls to `birthday.sharedBirthday(n)` to call the function with the correct value of `n`.  Make sure the answers are what you expect."
   ]
  },
  {
   "cell_type": "code",
   "execution_count": 83,
   "metadata": {},
   "outputs": [
    {
     "name": "stdout",
     "output_type": "stream",
     "text": [
      "A room with just you: 0\n",
      "A room with two people: 0.002739726027397249\n",
      "A room with three people: 0.008204165884781456\n",
      "A room with four people: 0.016355912466550326\n",
      "A room with 40 people: 0.891231809817949\n",
      "A room with 80 people: 0.9999143319493135\n",
      "A room with 400 people: 1.0\n"
     ]
    }
   ],
   "source": [
    "print('A room with just you:',  birthday.sharedBirthday(0))\n",
    "print('A room with two people:',  birthday.sharedBirthday(2))\n",
    "print('A room with three people:',  birthday.sharedBirthday(3))\n",
    "print('A room with four people:',  birthday.sharedBirthday(4))\n",
    "print('A room with 40 people:',  birthday.sharedBirthday(40))\n",
    "print('A room with 80 people:',  birthday.sharedBirthday(80))\n",
    "print('A room with 400 people:',  birthday.sharedBirthday(400))"
   ]
  },
  {
   "cell_type": "markdown",
   "metadata": {},
   "source": [
    "### Puzzle 2.2: Result Plot\n",
    "\n",
    "Just like in Puzzle 1, the `birthday` library has a function for you to create a DataFrame containing the probabilities up to `n` total people at your party: `birthday.sharedBirthday_DataFrame(n)`!\n",
    "\n",
    "Use `birthday.sharedBirthday_DataFrame(n)` to create a DataFrame of birthdays for up to **400** people in the same room and output it below:"
   ]
  },
  {
   "cell_type": "code",
   "execution_count": 84,
   "metadata": {},
   "outputs": [
    {
     "data": {
      "text/html": [
       "<div>\n",
       "<style scoped>\n",
       "    .dataframe tbody tr th:only-of-type {\n",
       "        vertical-align: middle;\n",
       "    }\n",
       "\n",
       "    .dataframe tbody tr th {\n",
       "        vertical-align: top;\n",
       "    }\n",
       "\n",
       "    .dataframe thead th {\n",
       "        text-align: right;\n",
       "    }\n",
       "</style>\n",
       "<table border=\"1\" class=\"dataframe\">\n",
       "  <thead>\n",
       "    <tr style=\"text-align: right;\">\n",
       "      <th></th>\n",
       "      <th>People at The Party</th>\n",
       "      <th>P(n)</th>\n",
       "    </tr>\n",
       "  </thead>\n",
       "  <tbody>\n",
       "    <tr>\n",
       "      <th>0</th>\n",
       "      <td>0</td>\n",
       "      <td>0.000000</td>\n",
       "    </tr>\n",
       "    <tr>\n",
       "      <th>1</th>\n",
       "      <td>1</td>\n",
       "      <td>0.000000</td>\n",
       "    </tr>\n",
       "    <tr>\n",
       "      <th>2</th>\n",
       "      <td>2</td>\n",
       "      <td>0.002740</td>\n",
       "    </tr>\n",
       "    <tr>\n",
       "      <th>3</th>\n",
       "      <td>3</td>\n",
       "      <td>0.008204</td>\n",
       "    </tr>\n",
       "    <tr>\n",
       "      <th>4</th>\n",
       "      <td>4</td>\n",
       "      <td>0.016356</td>\n",
       "    </tr>\n",
       "    <tr>\n",
       "      <th>...</th>\n",
       "      <td>...</td>\n",
       "      <td>...</td>\n",
       "    </tr>\n",
       "    <tr>\n",
       "      <th>395</th>\n",
       "      <td>395</td>\n",
       "      <td>1.000000</td>\n",
       "    </tr>\n",
       "    <tr>\n",
       "      <th>396</th>\n",
       "      <td>396</td>\n",
       "      <td>1.000000</td>\n",
       "    </tr>\n",
       "    <tr>\n",
       "      <th>397</th>\n",
       "      <td>397</td>\n",
       "      <td>1.000000</td>\n",
       "    </tr>\n",
       "    <tr>\n",
       "      <th>398</th>\n",
       "      <td>398</td>\n",
       "      <td>1.000000</td>\n",
       "    </tr>\n",
       "    <tr>\n",
       "      <th>399</th>\n",
       "      <td>399</td>\n",
       "      <td>1.000000</td>\n",
       "    </tr>\n",
       "  </tbody>\n",
       "</table>\n",
       "<p>400 rows × 2 columns</p>\n",
       "</div>"
      ],
      "text/plain": [
       "     People at The Party      P(n)\n",
       "0                      0  0.000000\n",
       "1                      1  0.000000\n",
       "2                      2  0.002740\n",
       "3                      3  0.008204\n",
       "4                      4  0.016356\n",
       "..                   ...       ...\n",
       "395                  395  1.000000\n",
       "396                  396  1.000000\n",
       "397                  397  1.000000\n",
       "398                  398  1.000000\n",
       "399                  399  1.000000\n",
       "\n",
       "[400 rows x 2 columns]"
      ]
     },
     "execution_count": 84,
     "metadata": {},
     "output_type": "execute_result"
    }
   ],
   "source": [
    "df = birthday.sharedBirthday_DataFrame(400)\n",
    "df"
   ]
  },
  {
   "cell_type": "markdown",
   "metadata": {},
   "source": [
    "Similarly, we can create a line chart to show how the probability grows over time. Run the code below!"
   ]
  },
  {
   "cell_type": "code",
   "execution_count": 85,
   "metadata": {
    "nbgrader": {
     "grade": false,
     "grade_id": "cell-c46ee253ad4a8777",
     "locked": false,
     "schema_version": 3,
     "solution": true,
     "task": false
    }
   },
   "outputs": [
    {
     "data": {
      "text/plain": [
       "<AxesSubplot:xlabel='People at The Party'>"
      ]
     },
     "execution_count": 85,
     "metadata": {},
     "output_type": "execute_result"
    },
    {
     "data": {
      "image/png": "[encoded data removed]",
      "text/plain": [
       "<Figure size 432x288 with 1 Axes>"
      ]
     },
     "metadata": {
      "needs_background": "light"
     },
     "output_type": "display_data"
    }
   ],
   "source": [
    "df.plot.line(y='P(n)', x='People at The Party', grid=True)"
   ]
  },
  {
   "cell_type": "markdown",
   "metadata": {},
   "source": [
    "### Puzzle 2.3: ❓ Re-Reflection ❓\n",
    "\n",
    " Knowing what you know now, how much more less likely that someone in your lab shares **your** birthday **OR** that there's at least one shared birthday between **anyone** in your lab?  How likely is it to happen in the room you're on?  (Look at the graphs and tables to get the exact probability.)"
   ]
  },
  {
   "cell_type": "markdown",
   "metadata": {},
   "source": [
    "It is pretty unlikley about .1 probability"
   ]
  },
  {
   "cell_type": "markdown",
   "metadata": {},
   "source": [
    "## Puzzle 3: Taylor's Birthday Problem\n",
    "\n",
    "Taylor Swift wants **every day to be someone's birthday**!  Given a massive concert of `n` people, what is the probability that **all 365 days have at least one person with a birthday that day**?\n",
    "\n",
    "Since Wade, Karle, and the full course staff <3s Taylor, we wrote a function to do this simulation for Taylor!  \n",
    "\n",
    "The `birthday.forTaylor()` function returns one simulation of the number of people needed to satisfy Taylor's wish for there to be someone with a birthday for every day of the year at her concert!\n",
    "\n",
    "You will need to **use this function** to help us calculate probabilities!\n",
    "\n",
    "### Puzzle 3.1: Run the already-complete simulation\n",
    "\n",
    "Run this simulation in the next cell several times.  See the different number of people at Taylor's concert for everyone to have a birthday:"
   ]
  },
  {
   "cell_type": "code",
   "execution_count": 92,
   "metadata": {
    "nbgrader": {
     "grade": false,
     "grade_id": "cell-a60a84fa1d64c87d",
     "locked": false,
     "schema_version": 3,
     "solution": true,
     "task": false
    }
   },
   "outputs": [
    {
     "data": {
      "text/plain": [
       "2879"
      ]
     },
     "execution_count": 92,
     "metadata": {},
     "output_type": "execute_result"
    }
   ],
   "source": [
    "birthday.forTaylor()"
   ]
  },
  {
   "cell_type": "markdown",
   "metadata": {},
   "source": [
    "#### Collecting Many Results\n",
    "\n",
    "Just like the previous puzzles, we have the function `birthday.forTaylor_DataFrame(n)` that returns a DataFrame for `n` **simulations**.\n",
    "\n",
    "Collect a new DataFrame, `df_taylor`, that stores at least **1,000** simulations of Taylor's wish!"
   ]
  },
  {
   "cell_type": "code",
   "execution_count": 87,
   "metadata": {
    "nbgrader": {
     "grade": false,
     "grade_id": "cell-6a44b9f35daf8325",
     "locked": false,
     "schema_version": 3,
     "solution": true,
     "task": false
    }
   },
   "outputs": [
    {
     "data": {
      "text/html": [
       "<div>\n",
       "<style scoped>\n",
       "    .dataframe tbody tr th:only-of-type {\n",
       "        vertical-align: middle;\n",
       "    }\n",
       "\n",
       "    .dataframe tbody tr th {\n",
       "        vertical-align: top;\n",
       "    }\n",
       "\n",
       "    .dataframe thead th {\n",
       "        text-align: right;\n",
       "    }\n",
       "</style>\n",
       "<table border=\"1\" class=\"dataframe\">\n",
       "  <thead>\n",
       "    <tr style=\"text-align: right;\">\n",
       "      <th></th>\n",
       "      <th>people</th>\n",
       "    </tr>\n",
       "  </thead>\n",
       "  <tbody>\n",
       "    <tr>\n",
       "      <th>0</th>\n",
       "      <td>2409</td>\n",
       "    </tr>\n",
       "    <tr>\n",
       "      <th>1</th>\n",
       "      <td>2168</td>\n",
       "    </tr>\n",
       "    <tr>\n",
       "      <th>2</th>\n",
       "      <td>2221</td>\n",
       "    </tr>\n",
       "    <tr>\n",
       "      <th>3</th>\n",
       "      <td>2277</td>\n",
       "    </tr>\n",
       "    <tr>\n",
       "      <th>4</th>\n",
       "      <td>1864</td>\n",
       "    </tr>\n",
       "    <tr>\n",
       "      <th>...</th>\n",
       "      <td>...</td>\n",
       "    </tr>\n",
       "    <tr>\n",
       "      <th>995</th>\n",
       "      <td>2354</td>\n",
       "    </tr>\n",
       "    <tr>\n",
       "      <th>996</th>\n",
       "      <td>2873</td>\n",
       "    </tr>\n",
       "    <tr>\n",
       "      <th>997</th>\n",
       "      <td>2970</td>\n",
       "    </tr>\n",
       "    <tr>\n",
       "      <th>998</th>\n",
       "      <td>1747</td>\n",
       "    </tr>\n",
       "    <tr>\n",
       "      <th>999</th>\n",
       "      <td>2463</td>\n",
       "    </tr>\n",
       "  </tbody>\n",
       "</table>\n",
       "<p>1000 rows × 1 columns</p>\n",
       "</div>"
      ],
      "text/plain": [
       "     people\n",
       "0      2409\n",
       "1      2168\n",
       "2      2221\n",
       "3      2277\n",
       "4      1864\n",
       "..      ...\n",
       "995    2354\n",
       "996    2873\n",
       "997    2970\n",
       "998    1747\n",
       "999    2463\n",
       "\n",
       "[1000 rows x 1 columns]"
      ]
     },
     "execution_count": 87,
     "metadata": {},
     "output_type": "execute_result"
    }
   ],
   "source": [
    "df_taylor =birthday.forTaylor_DataFrame(1000)\n",
    "df_taylor"
   ]
  },
  {
   "cell_type": "markdown",
   "metadata": {},
   "source": [
    "### Puzzle 3.2: Finding the probability we delivered for Taylor\n",
    "\n",
    "The concert is held and we have **exactly 2,000 people packed onto the quad for Taylor Swift!**  Using your simulation results, find an estimate for the probability that Taylor will be happy to know every day of the year is someone’s birthday:"
   ]
  },
  {
   "cell_type": "code",
   "execution_count": 94,
   "metadata": {
    "nbgrader": {
     "grade": false,
     "grade_id": "cell-0b48a78d683ce577",
     "locked": false,
     "schema_version": 3,
     "solution": true,
     "task": false
    }
   },
   "outputs": [
    {
     "data": {
      "text/html": [
       "<div>\n",
       "<style scoped>\n",
       "    .dataframe tbody tr th:only-of-type {\n",
       "        vertical-align: middle;\n",
       "    }\n",
       "\n",
       "    .dataframe tbody tr th {\n",
       "        vertical-align: top;\n",
       "    }\n",
       "\n",
       "    .dataframe thead th {\n",
       "        text-align: right;\n",
       "    }\n",
       "</style>\n",
       "<table border=\"1\" class=\"dataframe\">\n",
       "  <thead>\n",
       "    <tr style=\"text-align: right;\">\n",
       "      <th></th>\n",
       "      <th>people</th>\n",
       "    </tr>\n",
       "  </thead>\n",
       "  <tbody>\n",
       "    <tr>\n",
       "      <th>0</th>\n",
       "      <td>1699</td>\n",
       "    </tr>\n",
       "    <tr>\n",
       "      <th>1</th>\n",
       "      <td>2252</td>\n",
       "    </tr>\n",
       "    <tr>\n",
       "      <th>2</th>\n",
       "      <td>1862</td>\n",
       "    </tr>\n",
       "    <tr>\n",
       "      <th>3</th>\n",
       "      <td>2533</td>\n",
       "    </tr>\n",
       "    <tr>\n",
       "      <th>4</th>\n",
       "      <td>2392</td>\n",
       "    </tr>\n",
       "    <tr>\n",
       "      <th>...</th>\n",
       "      <td>...</td>\n",
       "    </tr>\n",
       "    <tr>\n",
       "      <th>1995</th>\n",
       "      <td>2433</td>\n",
       "    </tr>\n",
       "    <tr>\n",
       "      <th>1996</th>\n",
       "      <td>2238</td>\n",
       "    </tr>\n",
       "    <tr>\n",
       "      <th>1997</th>\n",
       "      <td>2010</td>\n",
       "    </tr>\n",
       "    <tr>\n",
       "      <th>1998</th>\n",
       "      <td>2964</td>\n",
       "    </tr>\n",
       "    <tr>\n",
       "      <th>1999</th>\n",
       "      <td>2327</td>\n",
       "    </tr>\n",
       "  </tbody>\n",
       "</table>\n",
       "<p>2000 rows × 1 columns</p>\n",
       "</div>"
      ],
      "text/plain": [
       "      people\n",
       "0       1699\n",
       "1       2252\n",
       "2       1862\n",
       "3       2533\n",
       "4       2392\n",
       "...      ...\n",
       "1995    2433\n",
       "1996    2238\n",
       "1997    2010\n",
       "1998    2964\n",
       "1999    2327\n",
       "\n",
       "[2000 rows x 1 columns]"
      ]
     },
     "execution_count": 94,
     "metadata": {},
     "output_type": "execute_result"
    }
   ],
   "source": [
    "# First, find only the rows where Taylor's had her wish come true when there were at most 2,000 people (what conditional would that be?): \n",
    "n=2000\n",
    "df_success = birthday.forTaylor_DataFrame(n)\n",
    "df_success"
   ]
  },
  {
   "cell_type": "code",
   "execution_count": null,
   "metadata": {
    "nbgrader": {
     "grade": false,
     "grade_id": "cell-3cd0d620430a89ba",
     "locked": false,
     "schema_version": 3,
     "solution": true,
     "task": false
    }
   },
   "outputs": [],
   "source": [
    "p_everyBirthday = \n",
    "p_everyBirthday"
   ]
  },
  {
   "cell_type": "markdown",
   "metadata": {},
   "source": [
    "### Puzzle 3.3: Distribution Histogram\n",
    "\n",
    "Create a histogram of your `df_taylor` results, showing the distribution of people needed in our simulation to account for every birthday."
   ]
  },
  {
   "cell_type": "code",
   "execution_count": 95,
   "metadata": {
    "nbgrader": {
     "grade": false,
     "grade_id": "cell-62147f75639a94d3",
     "locked": false,
     "schema_version": 3,
     "solution": true,
     "task": false
    }
   },
   "outputs": [
    {
     "data": {
      "image/png": "[encoded data removed]",
      "text/plain": [
       "<Figure size 432x288 with 1 Axes>"
      ]
     },
     "metadata": {
      "needs_background": "light"
     },
     "output_type": "display_data"
    }
   ],
   "source": [
    "# Create a histogram:\n",
    "df_taylor=df_taylor.plot.hist(bins=2000)"
   ]
  },
  {
   "cell_type": "code",
   "execution_count": 96,
   "metadata": {
    "nbgrader": {
     "grade": true,
     "grade_id": "cell-1bae19913f8df080",
     "locked": true,
     "points": 0,
     "schema_version": 3,
     "solution": false,
     "task": false
    }
   },
   "outputs": [
    {
     "ename": "TypeError",
     "evalue": "object of type 'AxesSubplot' has no len()",
     "output_type": "error",
     "traceback": [
      "\u001b[1;31m---------------------------------------------------------------------------\u001b[0m",
      "\u001b[1;31mTypeError\u001b[0m                                 Traceback (most recent call last)",
      "\u001b[1;32mc:\\Users\\Dhruv\\Desktop\\stat107\\dhruvad2\\lab_birthday\\lab_birthday.ipynb Cell 46'\u001b[0m in \u001b[0;36m<module>\u001b[1;34m\u001b[0m\n\u001b[0;32m      <a href='vscode-notebook-cell:/c%3A/Users/Dhruv/Desktop/stat107/dhruvad2/lab_birthday/lab_birthday.ipynb#ch0000045?line=0'>1</a>\u001b[0m \u001b[39m## == TEST CASES for Puzzle 3 ==\u001b[39;00m\n\u001b[0;32m      <a href='vscode-notebook-cell:/c%3A/Users/Dhruv/Desktop/stat107/dhruvad2/lab_birthday/lab_birthday.ipynb#ch0000045?line=1'>2</a>\u001b[0m \u001b[39m# - This read-only cell contains test cases for your previous cell.\u001b[39;00m\n\u001b[0;32m      <a href='vscode-notebook-cell:/c%3A/Users/Dhruv/Desktop/stat107/dhruvad2/lab_birthday/lab_birthday.ipynb#ch0000045?line=2'>3</a>\u001b[0m \u001b[39m# - If this cell runs without any error our output, you PASSED all test cases!\u001b[39;00m\n\u001b[0;32m      <a href='vscode-notebook-cell:/c%3A/Users/Dhruv/Desktop/stat107/dhruvad2/lab_birthday/lab_birthday.ipynb#ch0000045?line=3'>4</a>\u001b[0m \u001b[39m# - If this cell results in any errors, check you previous cell, make changes, and RE-RUN your code and then this cell.\u001b[39;00m\n\u001b[1;32m----> <a href='vscode-notebook-cell:/c%3A/Users/Dhruv/Desktop/stat107/dhruvad2/lab_birthday/lab_birthday.ipynb#ch0000045?line=5'>6</a>\u001b[0m \u001b[39massert\u001b[39;00m( \u001b[39mlen\u001b[39;49m(df_taylor) \u001b[39m>\u001b[39m\u001b[39m=\u001b[39m \u001b[39m1000\u001b[39m ), \u001b[39m\"\u001b[39m\u001b[39mEnsure you have done at least 1,000 simulations.\u001b[39m\u001b[39m\"\u001b[39m\n\u001b[0;32m      <a href='vscode-notebook-cell:/c%3A/Users/Dhruv/Desktop/stat107/dhruvad2/lab_birthday/lab_birthday.ipynb#ch0000045?line=6'>7</a>\u001b[0m \u001b[39massert\u001b[39;00m( \u001b[39mlen\u001b[39m(df_success) \u001b[39m>\u001b[39m \u001b[39m0\u001b[39m ), \u001b[39m\"\u001b[39m\u001b[39mEnsure your success includes all simulations with 2,000 or fewer people.\u001b[39m\u001b[39m\"\u001b[39m\n\u001b[0;32m      <a href='vscode-notebook-cell:/c%3A/Users/Dhruv/Desktop/stat107/dhruvad2/lab_birthday/lab_birthday.ipynb#ch0000045?line=7'>8</a>\u001b[0m \u001b[39massert\u001b[39;00m( \u001b[39mlen\u001b[39m(df_success) \u001b[39m<\u001b[39m \u001b[39mlen\u001b[39m(df_taylor) ), \u001b[39m\"\u001b[39m\u001b[39mEnsure your success includes all simulations with 2,000 or fewer people.\u001b[39m\u001b[39m\"\u001b[39m\n",
      "\u001b[1;31mTypeError\u001b[0m: object of type 'AxesSubplot' has no len()"
     ]
    }
   ],
   "source": [
    "## == TEST CASES for Puzzle 3 ==\n",
    "# - This read-only cell contains test cases for your previous cell.\n",
    "# - If this cell runs without any error our output, you PASSED all test cases!\n",
    "# - If this cell results in any errors, check you previous cell, make changes, and RE-RUN your code and then this cell.\n",
    "\n",
    "assert( len(df_taylor) >= 1000 ), \"Ensure you have done at least 1,000 simulations.\"\n",
    "assert( len(df_success) > 0 ), \"Ensure your success includes all simulations with 2,000 or fewer people.\"\n",
    "assert( len(df_success) < len(df_taylor) ), \"Ensure your success includes all simulations with 2,000 or fewer people.\"\n",
    "assert( p_everyBirthday > 0.1 and p_everyBirthday < 1 ), \"Ensure `p_everyBirthday` is a probability.\"\n",
    "\n",
    "## == SUCCESS MESSAGE ==\n",
    "# You will only see this message (with the emoji showing) if you passed all test cases:\n",
    "tada = \"\\N{PARTY POPPER}\"\n",
    "print(f\"{tada} All tests passed! {tada}\")\n",
    "print()\n",
    "print(\"Great! You figured it out. Now go start inviting people!\")"
   ]
  },
  {
   "cell_type": "markdown",
   "metadata": {},
   "source": [
    "## Puzzle 4: Olivia's Birthday Problem - Everyone Shares a Birthday\n",
    "\n",
    "Not wanting to be exactly like Taylor Swift, Olivia Rodrigo wants **everyone to share a birthday with at least one other person** AND **for every day of the year to be someone's birthday**.  We think that we will need an even bigger audience to make Olivia happy!\n",
    "\n",
    "The `birthday.forOlivia()` function returns one simulation of the number of people needed to satisfy Olivia's wishes!\n",
    "\n",
    "### Puzzle 4.1: Run the function\n",
    "\n",
    "Use `birthday.forOlivia()` in the following cell and run it several times.  See the different number of people at Olivia's concert for everyone to have a birthday and share a birthday:"
   ]
  },
  {
   "cell_type": "code",
   "execution_count": 89,
   "metadata": {},
   "outputs": [
    {
     "data": {
      "text/plain": [
       "2953"
      ]
     },
     "execution_count": 89,
     "metadata": {},
     "output_type": "execute_result"
    }
   ],
   "source": [
    "birthday.forOlivia()"
   ]
  },
  {
   "cell_type": "markdown",
   "metadata": {},
   "source": [
    "### Puzzle 4.2: Collect Simulation Results\n",
    "\n",
    "Identical to the previous puzzles, we have created `birthday.forOlivia_DataFrame(n)` that returns a DataFrame for `n` simulations of Olivia's wishes!\n",
    "\n",
    "Collect the results of running the simulation at least **1000** times and store the result in `df_olivia`.\n",
    "\n",
    "*(Note: This may take a few seconds or up to a minute to run on a slower laptop.)*"
   ]
  },
  {
   "cell_type": "code",
   "execution_count": 91,
   "metadata": {},
   "outputs": [
    {
     "data": {
      "text/html": [
       "<div>\n",
       "<style scoped>\n",
       "    .dataframe tbody tr th:only-of-type {\n",
       "        vertical-align: middle;\n",
       "    }\n",
       "\n",
       "    .dataframe tbody tr th {\n",
       "        vertical-align: top;\n",
       "    }\n",
       "\n",
       "    .dataframe thead th {\n",
       "        text-align: right;\n",
       "    }\n",
       "</style>\n",
       "<table border=\"1\" class=\"dataframe\">\n",
       "  <thead>\n",
       "    <tr style=\"text-align: right;\">\n",
       "      <th></th>\n",
       "      <th>people</th>\n",
       "    </tr>\n",
       "  </thead>\n",
       "  <tbody>\n",
       "    <tr>\n",
       "      <th>0</th>\n",
       "      <td>2879</td>\n",
       "    </tr>\n",
       "    <tr>\n",
       "      <th>1</th>\n",
       "      <td>3421</td>\n",
       "    </tr>\n",
       "    <tr>\n",
       "      <th>2</th>\n",
       "      <td>3209</td>\n",
       "    </tr>\n",
       "    <tr>\n",
       "      <th>3</th>\n",
       "      <td>2746</td>\n",
       "    </tr>\n",
       "    <tr>\n",
       "      <th>4</th>\n",
       "      <td>3339</td>\n",
       "    </tr>\n",
       "    <tr>\n",
       "      <th>...</th>\n",
       "      <td>...</td>\n",
       "    </tr>\n",
       "    <tr>\n",
       "      <th>995</th>\n",
       "      <td>3289</td>\n",
       "    </tr>\n",
       "    <tr>\n",
       "      <th>996</th>\n",
       "      <td>3196</td>\n",
       "    </tr>\n",
       "    <tr>\n",
       "      <th>997</th>\n",
       "      <td>2684</td>\n",
       "    </tr>\n",
       "    <tr>\n",
       "      <th>998</th>\n",
       "      <td>4403</td>\n",
       "    </tr>\n",
       "    <tr>\n",
       "      <th>999</th>\n",
       "      <td>2961</td>\n",
       "    </tr>\n",
       "  </tbody>\n",
       "</table>\n",
       "<p>1000 rows × 1 columns</p>\n",
       "</div>"
      ],
      "text/plain": [
       "     people\n",
       "0      2879\n",
       "1      3421\n",
       "2      3209\n",
       "3      2746\n",
       "4      3339\n",
       "..      ...\n",
       "995    3289\n",
       "996    3196\n",
       "997    2684\n",
       "998    4403\n",
       "999    2961\n",
       "\n",
       "[1000 rows x 1 columns]"
      ]
     },
     "execution_count": 91,
     "metadata": {},
     "output_type": "execute_result"
    }
   ],
   "source": [
    "df_olivia = birthday.forOlivia_DataFrame(1000)\n",
    "df_olivia"
   ]
  },
  {
   "cell_type": "markdown",
   "metadata": {},
   "source": [
    "### Puzzle 4.3: Distribution Histogram\n",
    "\n",
    "Create a histogram of your `df_olivia` results, showing the distribution of people needed in our simulation to satisfy Olivia's wishes."
   ]
  },
  {
   "cell_type": "code",
   "execution_count": 98,
   "metadata": {},
   "outputs": [
    {
     "data": {
      "image/png": "[encoded data removed]",
      "text/plain": [
       "<Figure size 432x288 with 1 Axes>"
      ]
     },
     "metadata": {
      "needs_background": "light"
     },
     "output_type": "display_data"
    }
   ],
   "source": [
    "# Create a histogram:\n",
    "df_olivia=df_olivia.plot.hist(bins=12)"
   ]
  },
  {
   "cell_type": "markdown",
   "metadata": {},
   "source": [
    "### Puzzle 4.4: ❓ Estimate the Number of People Needed for Olivia's Next Concert ❓\n",
    "\n",
    "We want the probability of Olivia being happy to know that every day of the year everyone shares their birthday with someone else to be at least **50%** for her next concert. Using the histogram from your previous puzzle, find an estimate of how many people needs to be at Olivia's next concert:<br>\n",
    "\n",
    "**HINT:** (double-click this cell to see it): <span style=\"color:#ffffff00\">This is the same as estimating the value associated with the 50th Percentile, or the Median.</span>"
   ]
  },
  {
   "cell_type": "markdown",
   "metadata": {},
   "source": [
    "50%"
   ]
  },
  {
   "cell_type": "markdown",
   "metadata": {},
   "source": [
    "### Puzzle 4.5: Finding the Probability For Your Estimate\n",
    "\n",
    "Using your simulation results from Puzzle 4.2 and your estimate from Puzzle 4.3, calculate an estimate for the probability that Olivia will be happy at her next concert:"
   ]
  },
  {
   "cell_type": "code",
   "execution_count": 97,
   "metadata": {},
   "outputs": [
    {
     "ename": "KeyError",
     "evalue": "\"None of [Int64Index([2879, 3421, 3209, 2746, 3339, 2431, 2918, 3543, 3838, 3161,\\n            ...\\n            2894, 3249, 3729, 2707, 2657, 3289, 3196, 2684, 4403, 2961],\\n           dtype='int64', length=1000)] are in the [columns]\"",
     "output_type": "error",
     "traceback": [
      "\u001b[1;31m---------------------------------------------------------------------------\u001b[0m",
      "\u001b[1;31mKeyError\u001b[0m                                  Traceback (most recent call last)",
      "\u001b[1;32mc:\\Users\\Dhruv\\Desktop\\stat107\\dhruvad2\\lab_birthday\\lab_birthday.ipynb Cell 56'\u001b[0m in \u001b[0;36m<module>\u001b[1;34m\u001b[0m\n\u001b[0;32m      <a href='vscode-notebook-cell:/c%3A/Users/Dhruv/Desktop/stat107/dhruvad2/lab_birthday/lab_birthday.ipynb#ch0000055?line=0'>1</a>\u001b[0m \u001b[39m# First, find the times the simulation was a success:\u001b[39;00m\n\u001b[0;32m      <a href='vscode-notebook-cell:/c%3A/Users/Dhruv/Desktop/stat107/dhruvad2/lab_birthday/lab_birthday.ipynb#ch0000055?line=1'>2</a>\u001b[0m df_olivia_success \u001b[39m=\u001b[39m df_olivia[\u001b[39m\"\u001b[39m\u001b[39mpeople\u001b[39m\u001b[39m\"\u001b[39m]\u001b[39m.\u001b[39mmedian()\n\u001b[1;32m----> <a href='vscode-notebook-cell:/c%3A/Users/Dhruv/Desktop/stat107/dhruvad2/lab_birthday/lab_birthday.ipynb#ch0000055?line=2'>3</a>\u001b[0m df_olivia[df_olivia[\u001b[39m\"\u001b[39;49m\u001b[39mpeople\u001b[39;49m\u001b[39m\"\u001b[39;49m]] \u001b[39m>\u001b[39m\u001b[39m=\u001b[39mdf_olivia_success\n",
      "File \u001b[1;32m~\\AppData\\Local\\Programs\\Python\\Python310\\lib\\site-packages\\pandas\\core\\frame.py:3464\u001b[0m, in \u001b[0;36mDataFrame.__getitem__\u001b[1;34m(self, key)\u001b[0m\n\u001b[0;32m   <a href='file:///~/AppData/Local/Programs/Python/Python310/lib/site-packages/pandas/core/frame.py?line=3461'>3462</a>\u001b[0m     \u001b[39mif\u001b[39;00m is_iterator(key):\n\u001b[0;32m   <a href='file:///~/AppData/Local/Programs/Python/Python310/lib/site-packages/pandas/core/frame.py?line=3462'>3463</a>\u001b[0m         key \u001b[39m=\u001b[39m \u001b[39mlist\u001b[39m(key)\n\u001b[1;32m-> <a href='file:///~/AppData/Local/Programs/Python/Python310/lib/site-packages/pandas/core/frame.py?line=3463'>3464</a>\u001b[0m     indexer \u001b[39m=\u001b[39m \u001b[39mself\u001b[39;49m\u001b[39m.\u001b[39;49mloc\u001b[39m.\u001b[39;49m_get_listlike_indexer(key, axis\u001b[39m=\u001b[39;49m\u001b[39m1\u001b[39;49m)[\u001b[39m1\u001b[39m]\n\u001b[0;32m   <a href='file:///~/AppData/Local/Programs/Python/Python310/lib/site-packages/pandas/core/frame.py?line=3465'>3466</a>\u001b[0m \u001b[39m# take() does not accept boolean indexers\u001b[39;00m\n\u001b[0;32m   <a href='file:///~/AppData/Local/Programs/Python/Python310/lib/site-packages/pandas/core/frame.py?line=3466'>3467</a>\u001b[0m \u001b[39mif\u001b[39;00m \u001b[39mgetattr\u001b[39m(indexer, \u001b[39m\"\u001b[39m\u001b[39mdtype\u001b[39m\u001b[39m\"\u001b[39m, \u001b[39mNone\u001b[39;00m) \u001b[39m==\u001b[39m \u001b[39mbool\u001b[39m:\n",
      "File \u001b[1;32m~\\AppData\\Local\\Programs\\Python\\Python310\\lib\\site-packages\\pandas\\core\\indexing.py:1314\u001b[0m, in \u001b[0;36m_LocIndexer._get_listlike_indexer\u001b[1;34m(self, key, axis)\u001b[0m\n\u001b[0;32m   <a href='file:///~/AppData/Local/Programs/Python/Python310/lib/site-packages/pandas/core/indexing.py?line=1310'>1311</a>\u001b[0m \u001b[39melse\u001b[39;00m:\n\u001b[0;32m   <a href='file:///~/AppData/Local/Programs/Python/Python310/lib/site-packages/pandas/core/indexing.py?line=1311'>1312</a>\u001b[0m     keyarr, indexer, new_indexer \u001b[39m=\u001b[39m ax\u001b[39m.\u001b[39m_reindex_non_unique(keyarr)\n\u001b[1;32m-> <a href='file:///~/AppData/Local/Programs/Python/Python310/lib/site-packages/pandas/core/indexing.py?line=1313'>1314</a>\u001b[0m \u001b[39mself\u001b[39;49m\u001b[39m.\u001b[39;49m_validate_read_indexer(keyarr, indexer, axis)\n\u001b[0;32m   <a href='file:///~/AppData/Local/Programs/Python/Python310/lib/site-packages/pandas/core/indexing.py?line=1315'>1316</a>\u001b[0m \u001b[39mif\u001b[39;00m needs_i8_conversion(ax\u001b[39m.\u001b[39mdtype) \u001b[39mor\u001b[39;00m \u001b[39misinstance\u001b[39m(\n\u001b[0;32m   <a href='file:///~/AppData/Local/Programs/Python/Python310/lib/site-packages/pandas/core/indexing.py?line=1316'>1317</a>\u001b[0m     ax, (IntervalIndex, CategoricalIndex)\n\u001b[0;32m   <a href='file:///~/AppData/Local/Programs/Python/Python310/lib/site-packages/pandas/core/indexing.py?line=1317'>1318</a>\u001b[0m ):\n\u001b[0;32m   <a href='file:///~/AppData/Local/Programs/Python/Python310/lib/site-packages/pandas/core/indexing.py?line=1318'>1319</a>\u001b[0m     \u001b[39m# For CategoricalIndex take instead of reindex to preserve dtype.\u001b[39;00m\n\u001b[0;32m   <a href='file:///~/AppData/Local/Programs/Python/Python310/lib/site-packages/pandas/core/indexing.py?line=1319'>1320</a>\u001b[0m     \u001b[39m#  For IntervalIndex this is to map integers to the Intervals they match to.\u001b[39;00m\n\u001b[0;32m   <a href='file:///~/AppData/Local/Programs/Python/Python310/lib/site-packages/pandas/core/indexing.py?line=1320'>1321</a>\u001b[0m     keyarr \u001b[39m=\u001b[39m ax\u001b[39m.\u001b[39mtake(indexer)\n",
      "File \u001b[1;32m~\\AppData\\Local\\Programs\\Python\\Python310\\lib\\site-packages\\pandas\\core\\indexing.py:1374\u001b[0m, in \u001b[0;36m_LocIndexer._validate_read_indexer\u001b[1;34m(self, key, indexer, axis)\u001b[0m\n\u001b[0;32m   <a href='file:///~/AppData/Local/Programs/Python/Python310/lib/site-packages/pandas/core/indexing.py?line=1371'>1372</a>\u001b[0m     \u001b[39mif\u001b[39;00m use_interval_msg:\n\u001b[0;32m   <a href='file:///~/AppData/Local/Programs/Python/Python310/lib/site-packages/pandas/core/indexing.py?line=1372'>1373</a>\u001b[0m         key \u001b[39m=\u001b[39m \u001b[39mlist\u001b[39m(key)\n\u001b[1;32m-> <a href='file:///~/AppData/Local/Programs/Python/Python310/lib/site-packages/pandas/core/indexing.py?line=1373'>1374</a>\u001b[0m     \u001b[39mraise\u001b[39;00m \u001b[39mKeyError\u001b[39;00m(\u001b[39mf\u001b[39m\u001b[39m\"\u001b[39m\u001b[39mNone of [\u001b[39m\u001b[39m{\u001b[39;00mkey\u001b[39m}\u001b[39;00m\u001b[39m] are in the [\u001b[39m\u001b[39m{\u001b[39;00maxis_name\u001b[39m}\u001b[39;00m\u001b[39m]\u001b[39m\u001b[39m\"\u001b[39m)\n\u001b[0;32m   <a href='file:///~/AppData/Local/Programs/Python/Python310/lib/site-packages/pandas/core/indexing.py?line=1375'>1376</a>\u001b[0m not_found \u001b[39m=\u001b[39m \u001b[39mlist\u001b[39m(ensure_index(key)[missing_mask\u001b[39m.\u001b[39mnonzero()[\u001b[39m0\u001b[39m]]\u001b[39m.\u001b[39munique())\n\u001b[0;32m   <a href='file:///~/AppData/Local/Programs/Python/Python310/lib/site-packages/pandas/core/indexing.py?line=1376'>1377</a>\u001b[0m \u001b[39mraise\u001b[39;00m \u001b[39mKeyError\u001b[39;00m(\u001b[39mf\u001b[39m\u001b[39m\"\u001b[39m\u001b[39m{\u001b[39;00mnot_found\u001b[39m}\u001b[39;00m\u001b[39m not in index\u001b[39m\u001b[39m\"\u001b[39m)\n",
      "\u001b[1;31mKeyError\u001b[0m: \"None of [Int64Index([2879, 3421, 3209, 2746, 3339, 2431, 2918, 3543, 3838, 3161,\\n            ...\\n            2894, 3249, 3729, 2707, 2657, 3289, 3196, 2684, 4403, 2961],\\n           dtype='int64', length=1000)] are in the [columns]\""
     ]
    }
   ],
   "source": [
    "# First, find the times the simulation was a success:\n",
    "df_olivia_success = df_olivia[\"people\"].median()\n",
    "df_olivia[df_olivia[\"people\"]] >=df_olivia_success"
   ]
  },
  {
   "cell_type": "code",
   "execution_count": null,
   "metadata": {},
   "outputs": [],
   "source": [
    "p_everyBirthdayShared = ...\n",
    "p_everyBirthdayShared"
   ]
  },
  {
   "cell_type": "code",
   "execution_count": null,
   "metadata": {},
   "outputs": [],
   "source": [
    "## == TEST CASES for Puzzle 4 ==\n",
    "# - This read-only cell contains test cases for your previous cell.\n",
    "# - If this cell runs without any error our output, you PASSED all test cases!\n",
    "# - If this cell results in any errors, check you previous cell, make changes, and RE-RUN your code and then this cell.\n",
    "\n",
    "assert( len(df_olivia) >= 1000 ), \"Ensure you have done at least 1,000 simulations.\"\n",
    "assert( len(df_olivia_success) > 0 ), \"Ensure your success includes all simulations with your median estimate or fewer people.\"\n",
    "assert( len(df_olivia_success) < len(df_olivia) ), \"Ensure your success includes all simulations with your median estimate or fewer people.\"\n",
    "assert( p_everyBirthdayShared > 0.1 and p_everyBirthdayShared < 1 ), \"Ensure `P_everyBirthdayShared` is a probability.\"\n",
    "\n",
    "## == SUCCESS MESSAGE ==\n",
    "# You will only see this message (with the emoji showing) if you passed all test cases:\n",
    "tada = \"\\N{PARTY POPPER}\"\n",
    "print(f\"{tada} All tests passed! {tada}\")\n",
    "print()\n",
    "print(\"Great! You figured it out. Now go start inviting people!\")"
   ]
  },
  {
   "cell_type": "markdown",
   "metadata": {},
   "source": [
    "## Finale!\n",
    "\n",
    "You're almost done -- congratulations!\n",
    "\n",
    "You need to do two more things:\n",
    "\n",
    "1. Save your work. To do this, go to **File -> Save All**\n",
    "2. After you have saved, exit this notebook and follow the webpage instructions to commit this lab to your Git repository!\n",
    "3. After you have updated your Git repository, check your submission in your GitHub repository online to verify it was successful!"
   ]
  }
 ],
 "metadata": {
  "celltoolbar": "Create Assignment",
  "interpreter": {
   "hash": "63fd5069d213b44bf678585dea6b12cceca9941eaf7f819626cde1f2670de90d"
  },
  "kernelspec": {
   "display_name": "Python 3 (ipykernel)",
   "language": "python",
   "name": "python3"
  },
  "language_info": {
   "codemirror_mode": {
    "name": "ipython",
    "version": 3
   },
   "file_extension": ".py",
   "mimetype": "text/x-python",
   "name": "python",
   "nbconvert_exporter": "python",
   "pygments_lexer": "ipython3",
   "version": "3.10.2"
  }
 },
 "nbformat": 4,
 "nbformat_minor": 4
}
